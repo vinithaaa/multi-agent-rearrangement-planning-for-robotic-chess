{
 "cells": [
  {
   "cell_type": "code",
   "execution_count": 2,
   "id": "f9cb846b",
   "metadata": {},
   "outputs": [],
   "source": [
    "import pybullet\n",
    "import gym\n",
    "import numpy as np\n",
    "import matplotlib.pyplot as plt\n",
    "import pybullet_data\n",
    "import math\n",
    "import rrtstar\n",
    "import mpc\n",
    "import time\n",
    "import torch\n",
    "from environment import Environment\n",
    "from maddpg import MADDPGAgentTrainer\n",
    "import tensorflow as tf\n",
    "import tensorflow.keras.layers as layers"
   ]
  },
  {
   "cell_type": "code",
   "execution_count": null,
   "id": "58335ecf",
   "metadata": {},
   "outputs": [],
   "source": [
    "#!git clone https://github.com/ROBOTIS-GIT/turtlebot3.git"
   ]
  },
  {
   "cell_type": "code",
   "execution_count": null,
   "id": "43102eff",
   "metadata": {},
   "outputs": [],
   "source": [
    "# RRT\n",
    "goal = (5.25, 3.5, 0)\n",
    "start = (0.25, 0.25, 0)\n",
    "samplingArea = [0, 10, 0, 5]\n",
    "RRT = rrtstar.RRT(start, goal, [], samplingArea, 'rrtstar', 'rectangle', 2)\n",
    "path = RRT.planning()"
   ]
  },
  {
   "cell_type": "code",
   "execution_count": 22,
   "id": "1518e5e9",
   "metadata": {},
   "outputs": [
    {
     "name": "stdout",
     "output_type": "stream",
     "text": [
      "[[5.25, 3.5, 0], [5.25, 3.5, 0], [0.25, 0.25, 0]]\n",
      "[[0.25 0.25 0.  ]\n",
      " [5.25 3.5  0.  ]\n",
      " [5.25 3.5  0.  ]]\n"
     ]
    }
   ],
   "source": [
    "print(path)\n",
    "path = np.flip(path, 0)\n",
    "print(path)\n"
   ]
  },
  {
   "cell_type": "code",
   "execution_count": 32,
   "id": "424cbb2a",
   "metadata": {},
   "outputs": [
    {
     "name": "stdout",
     "output_type": "stream",
     "text": [
      "[0.25 0.25 0.  ]\n",
      "[5.25 3.5  0.  ]\n",
      "[5.25 3.5  0.  ]\n",
      "[(0.25, 0.25, 0.39), (0.8055555555555556, 0.6111111111111112, 0.39), (1.3611111111111112, 0.9722222222222222, 0.39), (1.9166666666666667, 1.3333333333333333, 0.39), (2.4722222222222223, 1.6944444444444444, 0.39), (3.0277777777777777, 2.0555555555555554, 0.39), (3.5833333333333335, 2.4166666666666665, 0.39), (4.138888888888889, 2.7777777777777777, 0.39), (4.694444444444445, 3.138888888888889, 0.39), (5.25, 3.5, 0.39)]\n"
     ]
    }
   ],
   "source": [
    "extended_path = []\n",
    "for i in range(len(path)):\n",
    "    print(path[i])\n",
    "for i in range(len(path)):\n",
    "    if i + 1 != len(path) - 1:\n",
    "        angle = 0.39\n",
    "        path_part = list(zip(np.linspace(path[i][0], path[i+1][0], 10), np.linspace(path[i][1], path[i+1][1], 100)))\n",
    "        for part in path_part:\n",
    "            extended_path.append((part[0], part[1], angle))\n",
    "    else:\n",
    "        break\n",
    "        \n",
    "print(extended_path)"
   ]
  },
  {
   "cell_type": "code",
   "execution_count": 24,
   "id": "f4460a5d-bd71-4c89-b445-0cd48db1fe58",
   "metadata": {},
   "outputs": [],
   "source": [
    "physicsClient = pybullet.connect(pybullet.GUI)\n",
    "pybullet.setAdditionalSearchPath(pybullet_data.getDataPath())\n",
    "pybullet.setGravity(0,0,-9.8)\n",
    "\n",
    "# Loading chessgrid plane\n",
    "planeID = pybullet.loadURDF('plane.urdf')\n",
    "chess_grid = pybullet.loadTexture('checker_huge.gif')\n",
    "pybullet.changeVisualShape(planeID, -1, textureUniqueId=chess_grid)\n",
    "\n",
    "# Setting up overhead camera\n",
    "viewMatrix = pybullet.computeViewMatrix(\n",
    "    cameraEyePosition=[0.75,0.25,3],\n",
    "    cameraTargetPosition=[0.75,0.25,0],\n",
    "    cameraUpVector=[0,1,0])\n",
    "\n",
    "projectionMatrix = pybullet.computeProjectionMatrixFOV(\n",
    "    fov=45.0,\n",
    "    aspect=1.0,\n",
    "    nearVal=0.1,\n",
    "    farVal=3.1)\n",
    "\n",
    "width, height, rgbImg, depthImg, segImg = pybullet.getCameraImage(width = 224, height = 224, viewMatrix=viewMatrix, projectionMatrix = projectionMatrix)\n",
    "player = pybullet.loadURDF('turtlebot3/turtlebot3_description/urdf/turtlebot3_waffle_pi.urdf.xacro', start, pybullet.getQuaternionFromEuler([0,0,0]))\n",
    "pybullet.changeVisualShape(player, 0, rgbaColor=[0,0,1,1])\n",
    "\n",
    "pybullet.setRealTimeSimulation(1)"
   ]
  },
  {
   "cell_type": "code",
   "execution_count": 13,
   "id": "70af7e3c",
   "metadata": {},
   "outputs": [],
   "source": [
    "def applyAction(actions, orig_state):\n",
    "    new_states = []\n",
    "    for i in range(G):\n",
    "        action_set = actions[i]\n",
    "        for j in range(H):\n",
    "            action = action_set[j]\n",
    "            action_3d = [fM * action[0], fM * action[1], 0]\n",
    "            for x in range(10):\n",
    "                pybullet.stepSimulation()\n",
    "                time.sleep(1./240.)\n",
    "                current_pos = pybullet.getBasePositionAndOrientation(player)[0]\n",
    "                #pybullet.applyExternalForce(player, -1, action_3d, current_pos, pybullet.WORLD_FRAME)\n",
    "                pybullet.resetBaseVelocity(player, action_3d)\n",
    "            pybullet.resetBaseVelocity(player, [0,0,0])\n",
    "\n",
    "        \n",
    "        new_states.append(pybullet.getBasePositionAndOrientation(player))\n",
    "        pybullet.resetBasePositionAndOrientation(player, orig_state[0], orig_state[1])\n",
    "    return new_states\n",
    "        "
   ]
  },
  {
   "cell_type": "code",
   "execution_count": 14,
   "id": "9f49c69b",
   "metadata": {},
   "outputs": [],
   "source": [
    "def getCost(states, target):\n",
    "    #target = [goal[0], goal[1], 0]\n",
    "    target_pos = [target[0], target[1]]\n",
    "    target_angle = target[2]\n",
    "    costs = []\n",
    "    for i in range(G):\n",
    "        current = states[i]\n",
    "        current_pos = current[0]\n",
    "        current_angle = pybullet.getEulerFromQuaternion(current[1])[2]\n",
    "        # Double check above. Based on angle used for initial setting position\n",
    "        cost = math.sqrt(((current_pos[0] - target_pos[0]) ** 2) + ((current_pos[1] - target_pos[1]) ** 2))\n",
    "        cost += abs(current_angle - target_angle)\n",
    "        costs.append(cost)\n",
    "    return costs"
   ]
  },
  {
   "cell_type": "code",
   "execution_count": 28,
   "id": "06fff4ad",
   "metadata": {},
   "outputs": [],
   "source": [
    "H = 5\n",
    "G = 100\n",
    "T = 10\n",
    "K = 5\n",
    "fM = 1\n",
    "\n",
    "def cem(path):\n",
    "    pybullet.setRealTimeSimulation(0)\n",
    "    total_actions = []\n",
    "    for i in range(len(path) - 1):\n",
    "    #for i in range(1000):\n",
    "        initial_actions = np.random.normal(0,1,(G,H,2))\n",
    "        state = pybullet.getBasePositionAndOrientation(player)\n",
    "        print(state)\n",
    "        for t in range(T):\n",
    "            new_states = applyAction(initial_actions, state)\n",
    "            costs = getCost(new_states, path[i + 1])\n",
    "            #costs = getCost(new_states, path[1])\n",
    "            sorted_actions = [act for _,act in sorted(zip(costs, initial_actions), key=lambda pair: pair[0])]\n",
    "            new_mean = np.mean(sorted_actions[:K])\n",
    "            new_std = np.std(sorted_actions[:K])\n",
    "            new_actions = np.random.normal(new_mean, new_std, (G,H,2))\n",
    "            #print(sorted_actions[:K])\n",
    "            #print(new_actions)\n",
    "            initial_actions = np.concatenate((sorted_actions[:K], new_actions))\n",
    "            \n",
    "        best_action = initial_actions[0][0] # Because no horizon length\n",
    "        action = [fM * best_action[0], fM * best_action[1], 0]\n",
    "        total_actions.append(action)\n",
    "        #print(action)\n",
    "        for x in range(10):\n",
    "            pybullet.stepSimulation()\n",
    "            time.sleep(1./240.)\n",
    "            #pybullet.applyExternalForce(player, -1, action, state[0], pybullet.WORLD_FRAME)\n",
    "            pybullet.resetBaseVelocity(player, action)\n",
    "        pybullet.resetBaseVelocity(player, [0,0,0])\n",
    "    return total_actions\n",
    "\n",
    "            \n",
    "            \n"
   ]
  },
  {
   "cell_type": "code",
   "execution_count": 29,
   "id": "6b3a65c8",
   "metadata": {},
   "outputs": [
    {
     "name": "stdout",
     "output_type": "stream",
     "text": [
      "((0.25, 0.25, 0.0), (0.0, 0.0, 0.0, 1.0))\n",
      "((0.2942801704783471, 0.26973208553270533, 0.0005770321779222394), (-0.0004972244114593114, 0.03374208551789397, 0.015751060759447866, 0.9993063236654415))\n",
      "((0.3540693317430558, 0.3151125635695497, 0.0009368717012661425), (-0.0019120523761195112, 0.06506262004658113, 0.029840277050655447, 0.9974330841685197))\n",
      "((0.477343914141943, 0.43907374511668057, 0.0025463472275899235), (-0.00434745607234183, 0.09183387669011345, 0.03905561801965592, 0.9949986419181017))\n",
      "((0.5532986463644156, 0.5276024533861382, 0.0015548535934238055), (-0.0033256706194210997, 0.08378708748124403, 0.03571854942170047, 0.9958377624460477))\n",
      "((0.6768174795197334, 0.5898201105327558, 0.0014789193127153317), (-0.002748231532751313, 0.08283467680267648, 0.031299789280733584, 0.9960678625141061))\n",
      "((0.761083064879749, 0.6468506974244999, 0.0013466646711185182), (-0.002279689651870782, 0.08171380108665326, 0.027029693615103118, 0.9962866321446533))\n",
      "((0.9288445032259143, 0.7447634071878069, 0.001358702577407084), (-0.001913224226622791, 0.08173206122295723, 0.02306036702822118, 0.9963856829630929))\n",
      "((1.023231816489211, 0.8581364426384444, 0.001385206748646899), (-0.0018540502278798783, 0.08188393764308384, 0.022410981562789478, 0.9963881428234724))\n"
     ]
    }
   ],
   "source": [
    "actions = cem(extended_path)\n",
    "#pybullet.setRealTimeSimulation(1)"
   ]
  },
  {
   "cell_type": "code",
   "execution_count": 30,
   "id": "637b4dfb-0fd5-4a67-b428-926593c8ade6",
   "metadata": {},
   "outputs": [
    {
     "name": "stdout",
     "output_type": "stream",
     "text": [
      "[[1.2010228056113257, 0.5547382488199697, 0], [1.6129398559441022, 1.2367355143073044, 0], [3.3079716820725107, 3.3469373793115396, 0], [2.0273259179163183, 2.3689243243781837, 0], [3.308058439633955, 1.6739150862415417, 0], [2.2574475485382814, 1.5361480603266817, 0], [4.488506251779748, 2.6290656088594475, 0], [2.5241656129606023, 3.0453374087767258, 0], [2.2927930616189043, 2.710495429295285, 0]]\n"
     ]
    }
   ],
   "source": [
    "print(actions)"
   ]
  },
  {
   "cell_type": "code",
   "execution_count": 33,
   "id": "b55219a5-d0b2-482c-9df9-49ad1365bf05",
   "metadata": {},
   "outputs": [],
   "source": [
    "pybullet.resetBasePositionAndOrientation(player, [0.25,0.25,0], pybullet.getQuaternionFromEuler([0,0,0]))\n",
    "for action in actions:\n",
    "    for x in range(10):\n",
    "        pybullet.stepSimulation()\n",
    "        time.sleep(1./240.)\n",
    "        #pybullet.applyExternalForce(player, -1, action, state[0], pybullet.WORLD_FRAME)\n",
    "        pybullet.resetBaseVelocity(player, action)\n",
    "    pybullet.resetBaseVelocity(player, [0,0,0])"
   ]
  },
  {
   "cell_type": "code",
   "execution_count": 20,
   "id": "074f0e18",
   "metadata": {},
   "outputs": [],
   "source": [
    "pybullet.disconnect()"
   ]
  },
  {
   "cell_type": "code",
   "execution_count": null,
   "id": "7d63a311",
   "metadata": {},
   "outputs": [],
   "source": []
  }
 ],
 "metadata": {
  "kernelspec": {
   "display_name": "Python 3 (ipykernel)",
   "language": "python",
   "name": "python3"
  },
  "language_info": {
   "codemirror_mode": {
    "name": "ipython",
    "version": 3
   },
   "file_extension": ".py",
   "mimetype": "text/x-python",
   "name": "python",
   "nbconvert_exporter": "python",
   "pygments_lexer": "ipython3",
   "version": "3.7.13"
  }
 },
 "nbformat": 4,
 "nbformat_minor": 5
}
