{
 "cells": [
  {
   "cell_type": "code",
   "execution_count": 11,
   "id": "f9cb846b",
   "metadata": {},
   "outputs": [],
   "source": [
    "import pybullet\n",
    "import gym\n",
    "import numpy as np\n",
    "import matplotlib.pyplot as plt\n",
    "import pybullet_data\n",
    "import math\n",
    "import assign1"
   ]
  },
  {
   "cell_type": "code",
   "execution_count": null,
   "id": "58335ecf",
   "metadata": {},
   "outputs": [],
   "source": [
    "#!git clone https://github.com/ROBOTIS-GIT/turtlebot3.git"
   ]
  },
  {
   "cell_type": "code",
   "execution_count": 7,
   "id": "740cfca2",
   "metadata": {
    "scrolled": true
   },
   "outputs": [
    {
     "name": "stdout",
     "output_type": "stream",
     "text": [
      "((0.25, 0.25, 0.0), (0.0, 0.0, 0.0, 1.0))\n",
      "((0.75, 0.25, 0.0), (0.0, 0.0, 1.0, 6.123233995736766e-17))\n",
      "((0.75, 0.75, 0.0), (0.0, 0.0, 1.0, 6.123233995736766e-17))\n",
      "((0.75, -0.25, 0.0), (0.0, 0.0, 1.0, 6.123233995736766e-17))\n",
      "((1.25, 0.75, 0.0), (0.0, 0.0, 1.0, 6.123233995736766e-17))\n"
     ]
    }
   ],
   "source": [
    "# Initializing pybullet\n",
    "physicsClient = pybullet.connect(pybullet.GUI)\n",
    "pybullet.setAdditionalSearchPath(pybullet_data.getDataPath())\n",
    "pybullet.setGravity(0,0,-9.8)\n",
    "\n",
    "# Loading chessgrid plane\n",
    "planeID = pybullet.loadURDF('plane.urdf')\n",
    "chess_grid = pybullet.loadTexture('checker_huge.gif')\n",
    "pybullet.changeVisualShape(planeID, -1, textureUniqueId=chess_grid)\n",
    "\n",
    "\n",
    "\n",
    "\n",
    "# Creating robots\n",
    "player = pybullet.loadURDF('turtlebot3/turtlebot3_description/urdf/turtlebot3_waffle_pi.urdf.xacro', [0.25,0.25,0], pybullet.getQuaternionFromEuler([0,0,0]))\n",
    "\n",
    "start = (0.25,0.25)\n",
    "\n",
    "static = []\n",
    "\n",
    "static.append(pybullet.loadURDF('turtlebot3/turtlebot3_description/urdf/turtlebot3_waffle_pi.urdf.xacro', [0.75,0.25,0], pybullet.getQuaternionFromEuler([0,0,math.pi])))\n",
    "static.append(pybullet.loadURDF('turtlebot3/turtlebot3_description/urdf/turtlebot3_waffle_pi.urdf.xacro', [0.75,0.75,0], pybullet.getQuaternionFromEuler([0,0,math.pi])))\n",
    "static.append(pybullet.loadURDF('turtlebot3/turtlebot3_description/urdf/turtlebot3_waffle_pi.urdf.xacro', [0.75,-0.25,0], pybullet.getQuaternionFromEuler([0,0,math.pi])))\n",
    "static.append(pybullet.loadURDF('turtlebot3/turtlebot3_description/urdf/turtlebot3_waffle_pi.urdf.xacro', [1.25,0.75,0], pybullet.getQuaternionFromEuler([0,0,math.pi])))\n",
    "target = static[3]\n",
    "\n",
    "goal = (1.25, 0.75)\n",
    "\n",
    "# For milestone 2 only - setting all non-player targets to have no collision with player robot\n",
    "# Doesn't work when dragging into each other but might still work?\n",
    "pybullet.setCollisionFilterGroupMask(player, target, 0, 0)\n",
    "\n",
    "for robot in static:\n",
    "    pybullet.setCollisionFilterGroupMask(player, robot, 0, 0)\n",
    "\n",
    "# Setting colors to distinguish robots. BLUE for player, GREEN for obstacle, RED for target\n",
    "pybullet.changeVisualShape(player, 0, rgbaColor=[0,0,1,1])\n",
    "for robot in static:\n",
    "    pybullet.changeVisualShape(robot, 0, rgbaColor=[0,1,0,1])\n",
    "pybullet.changeVisualShape(target, 0, rgbaColor=[1,0,0,1])\n",
    "\n",
    "\n",
    "\n",
    "# Setting up overhead camera\n",
    "viewMatrix = pybullet.computeViewMatrix(\n",
    "            cameraEyePosition=[0.75,0.25,3],\n",
    "            cameraTargetPosition=[0.75,0.25,0],\n",
    "            cameraUpVector=[0,1,0])\n",
    "\n",
    "projectionMatrix = pybullet.computeProjectionMatrixFOV(\n",
    "            fov=45.0,\n",
    "            aspect=1.0,\n",
    "            nearVal=0.1,\n",
    "            farVal=3.1)\n",
    "\n",
    "width, height, rgbImg, depthImg, segImg = pybullet.getCameraImage(width = 224, height = 224, viewMatrix=viewMatrix, projectionMatrix = projectionMatrix)\n",
    "\n",
    "# Getting position and orientation\n",
    "print(pybullet.getBasePositionAndOrientation(player))\n",
    "print(pybullet.getBasePositionAndOrientation(static[0]))\n",
    "print(pybullet.getBasePositionAndOrientation(static[1]))\n",
    "print(pybullet.getBasePositionAndOrientation(static[2]))\n",
    "print(pybullet.getBasePositionAndOrientation(target))\n",
    "\n",
    "\n",
    "# Start simulation\n",
    "pybullet.setRealTimeSimulation(1)"
   ]
  },
  {
   "cell_type": "code",
   "execution_count": 33,
   "id": "43102eff",
   "metadata": {},
   "outputs": [],
   "source": [
    "# RRT\n",
    "samplingArea = [0.25, 1.25, -0.25, 0.75]\n",
    "RRT = assign1.RRT(start, goal, [], samplingArea, 'rrtstar', 'rectangle', 2)\n",
    "path = RRT.planning()"
   ]
  },
  {
   "cell_type": "code",
   "execution_count": 34,
   "id": "1518e5e9",
   "metadata": {},
   "outputs": [
    {
     "name": "stdout",
     "output_type": "stream",
     "text": [
      "[[1.25, 0.75, 0], [1.25, 0.75, 0], [0.3904985158068812, 0.4593764534518924, 0.10455689310930044], [0.25, 0.25, 0]]\n"
     ]
    }
   ],
   "source": [
    "print(path)"
   ]
  },
  {
   "cell_type": "code",
   "execution_count": 6,
   "id": "074f0e18",
   "metadata": {},
   "outputs": [],
   "source": [
    "pybullet.disconnect()"
   ]
  },
  {
   "cell_type": "code",
   "execution_count": null,
   "id": "7d63a311",
   "metadata": {},
   "outputs": [],
   "source": []
  }
 ],
 "metadata": {
  "kernelspec": {
   "display_name": "Python 3 (ipykernel)",
   "language": "python",
   "name": "python3"
  },
  "language_info": {
   "codemirror_mode": {
    "name": "ipython",
    "version": 3
   },
   "file_extension": ".py",
   "mimetype": "text/x-python",
   "name": "python",
   "nbconvert_exporter": "python",
   "pygments_lexer": "ipython3",
   "version": "3.7.3"
  }
 },
 "nbformat": 4,
 "nbformat_minor": 5
}
