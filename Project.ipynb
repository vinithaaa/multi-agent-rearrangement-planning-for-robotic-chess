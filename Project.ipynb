{
 "cells": [
  {
   "cell_type": "code",
   "execution_count": 4,
   "id": "f9cb846b",
   "metadata": {},
   "outputs": [],
   "source": [
    "import pybullet\n",
    "import gym\n",
    "import numpy as np\n",
    "import matplotlib.pyplot as plt\n",
    "import pybullet_data\n",
    "import math"
   ]
  },
  {
   "cell_type": "code",
   "execution_count": null,
   "id": "58335ecf",
   "metadata": {},
   "outputs": [],
   "source": [
    "#!git clone https://github.com/ROBOTIS-GIT/turtlebot3.git"
   ]
  },
  {
   "cell_type": "code",
   "execution_count": 92,
   "id": "740cfca2",
   "metadata": {},
   "outputs": [],
   "source": [
    "physicsClient = pybullet.connect(pybullet.GUI)\n",
    "pybullet.setAdditionalSearchPath(pybullet_data.getDataPath())\n",
    "pybullet.setGravity(0,0,-9.8)\n",
    "planeID = pybullet.loadURDF('plane.urdf')\n",
    "chess_grid = pybullet.loadTexture('checker_huge.gif')\n",
    "pybullet.changeVisualShape(planeID, -1, textureUniqueId=chess_grid)\n",
    "\n",
    "\n",
    "#common_props = pybullet.loadURDF('turtlebot3/turtlebot3_description/urdf/common_properties.xacro')\n",
    "\n",
    "turtle1 = pybullet.loadURDF('turtlebot3/turtlebot3_description/urdf/turtlebot3_waffle_pi.urdf.xacro', [0.25,0.25,0], pybullet.getQuaternionFromEuler([0,0,0]))\n",
    "turtle2 = pybullet.loadURDF('turtlebot3/turtlebot3_description/urdf/turtlebot3_waffle_pi.urdf.xacro', [0.75,0.25,0], pybullet.getQuaternionFromEuler([0,0,0]))\n",
    "turtle3 = pybullet.loadURDF('turtlebot3/turtlebot3_description/urdf/turtlebot3_waffle_pi.urdf.xacro', [0.75,0.75,0], pybullet.getQuaternionFromEuler([0,0,0]))\n",
    "turtle4 = pybullet.loadURDF('turtlebot3/turtlebot3_description/urdf/turtlebot3_waffle_pi.urdf.xacro', [0.75,-0.25,0], pybullet.getQuaternionFromEuler([0,0,0]))\n",
    "turtle5 = pybullet.loadURDF('turtlebot3/turtlebot3_description/urdf/turtlebot3_waffle_pi.urdf.xacro', [1.25,0.75,0], pybullet.getQuaternionFromEuler([0,0,0]))\n",
    "\n",
    "#robot_texture = pybullet.loadTexture('turtlebot3/turtlebot3_description/rviz/waffle_pi.rviz')\n",
    "#robot_texture = pybullet.loadTexture('duckCM.png')\n",
    "\n",
    "\n",
    "pybullet.changeVisualShape(turtle1, -1, rgbaColor=[0,0,1,1])\n",
    "pybullet.changeVisualShape(turtle2, -1, rgbaColor=[0,0,1,1])\n",
    "pybullet.changeVisualShape(turtle3, -1, rgbaColor=[0,0,1,1])\n",
    "pybullet.changeVisualShape(turtle4, -1, rgbaColor=[0,0,1,1])\n",
    "pybullet.changeVisualShape(turtle5, -1, rgbaColor=[0,0,1,1])\n",
    "\n",
    "\n",
    "\n",
    "\n",
    "\n",
    "\n",
    "\n",
    "\n",
    "\n",
    "\n",
    "\n",
    "#pybullet.changeVisualShape(turtle1, -1, textureUniqueId=robot_texture)\n",
    "#pybullet.changeVisualShape(turtle2, -1, textureUniqueId=robot_texture)\n",
    "#pybullet.changeVisualShape(turtle3, -1, textureUniqueId=robot_texture)\n",
    "#pybullet.changeVisualShape(turtle4, -1, textureUniqueId=robot_texture)\n",
    "#pybullet.changeVisualShape(turtle5, -1, textureUniqueId=robot_texture)\n",
    "\n",
    "viewMatrix = pybullet.computeViewMatrix(\n",
    "            cameraEyePosition=[0.5,0,3],\n",
    "            cameraTargetPosition=[0.5,0,0],\n",
    "            cameraUpVector=[0,1,0])\n",
    "\n",
    "projectionMatrix = pybullet.computeProjectionMatrixFOV(\n",
    "            fov=45.0,\n",
    "            aspect=1.0,\n",
    "            nearVal=0.1,\n",
    "            farVal=3.1)\n",
    "\n",
    "width, height, rgbImg, depthImg, segImg = pybullet.getCameraImage(width = 224, height = 224, viewMatrix=viewMatrix, projectionMatrix = projectionMatrix)\n",
    "\n",
    "\n",
    "pybullet.setRealTimeSimulation(1)\n",
    "\n"
   ]
  },
  {
   "cell_type": "code",
   "execution_count": 91,
   "id": "074f0e18",
   "metadata": {},
   "outputs": [],
   "source": [
    "pybullet.disconnect()"
   ]
  }
 ],
 "metadata": {
  "kernelspec": {
   "display_name": "Python 3 (ipykernel)",
   "language": "python",
   "name": "python3"
  },
  "language_info": {
   "codemirror_mode": {
    "name": "ipython",
    "version": 3
   },
   "file_extension": ".py",
   "mimetype": "text/x-python",
   "name": "python",
   "nbconvert_exporter": "python",
   "pygments_lexer": "ipython3",
   "version": "3.7.3"
  }
 },
 "nbformat": 4,
 "nbformat_minor": 5
}
