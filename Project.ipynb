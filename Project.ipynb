{
 "cells": [
  {
   "cell_type": "code",
   "execution_count": 8,
   "id": "f9cb846b",
   "metadata": {},
   "outputs": [],
   "source": [
    "import pybullet\n",
    "import gym\n",
    "import numpy as np\n",
    "import matplotlib.pyplot as plt\n",
    "import pybullet_data\n",
    "import math"
   ]
  },
  {
   "cell_type": "code",
   "execution_count": null,
   "id": "58335ecf",
   "metadata": {},
   "outputs": [],
   "source": [
    "#!git clone https://github.com/ROBOTIS-GIT/turtlebot3.git"
   ]
  },
  {
   "cell_type": "code",
   "execution_count": 32,
   "id": "740cfca2",
   "metadata": {},
   "outputs": [
    {
     "name": "stdout",
     "output_type": "stream",
     "text": [
      "((0.25, 0.25, 0.0), (0.0, 0.0, 0.0, 1.0))\n",
      "((0.75, 0.25, 0.0), (0.0, 0.0, 1.0, 6.123233995736766e-17))\n",
      "((0.75, 0.75, 0.0), (0.0, 0.0, 1.0, 6.123233995736766e-17))\n",
      "((0.75, -0.25, 0.0), (0.0, 0.0, 1.0, 6.123233995736766e-17))\n",
      "((1.25, 0.75, 0.0), (0.0, 0.0, 1.0, 6.123233995736766e-17))\n"
     ]
    }
   ],
   "source": [
    "physicsClient = pybullet.connect(pybullet.GUI)\n",
    "pybullet.setAdditionalSearchPath(pybullet_data.getDataPath())\n",
    "pybullet.setGravity(0,0,-9.8)\n",
    "planeID = pybullet.loadURDF('plane.urdf')\n",
    "chess_grid = pybullet.loadTexture('checker_huge.gif')\n",
    "pybullet.changeVisualShape(planeID, -1, textureUniqueId=chess_grid)\n",
    "\n",
    "\n",
    "\n",
    "turtle1 = pybullet.loadURDF('turtlebot3/turtlebot3_description/urdf/turtlebot3_waffle_pi.urdf.xacro', [0.25,0.25,0], pybullet.getQuaternionFromEuler([0,0,0]))\n",
    "turtle2 = pybullet.loadURDF('turtlebot3/turtlebot3_description/urdf/turtlebot3_waffle_pi.urdf.xacro', [0.75,0.25,0], pybullet.getQuaternionFromEuler([0,0,math.pi]))\n",
    "turtle3 = pybullet.loadURDF('turtlebot3/turtlebot3_description/urdf/turtlebot3_waffle_pi.urdf.xacro', [0.75,0.75,0], pybullet.getQuaternionFromEuler([0,0,math.pi]))\n",
    "turtle4 = pybullet.loadURDF('turtlebot3/turtlebot3_description/urdf/turtlebot3_waffle_pi.urdf.xacro', [0.75,-0.25,0], pybullet.getQuaternionFromEuler([0,0,math.pi]))\n",
    "turtle5 = pybullet.loadURDF('turtlebot3/turtlebot3_description/urdf/turtlebot3_waffle_pi.urdf.xacro', [1.25,0.75,0], pybullet.getQuaternionFromEuler([0,0,math.pi]))\n",
    "\n",
    "\n",
    "\n",
    "pybullet.changeVisualShape(turtle1, 0, rgbaColor=[0,0,1,1])\n",
    "pybullet.changeVisualShape(turtle2, 0, rgbaColor=[0,1,0,1])\n",
    "pybullet.changeVisualShape(turtle3, 0, rgbaColor=[0,1,0,1])\n",
    "pybullet.changeVisualShape(turtle4, 0, rgbaColor=[0,1,0,1])\n",
    "pybullet.changeVisualShape(turtle5, 0, rgbaColor=[1,0,0,1])\n",
    "\n",
    "\n",
    "viewMatrix = pybullet.computeViewMatrix(\n",
    "            cameraEyePosition=[0.75,0.25,3],\n",
    "            cameraTargetPosition=[0.75,0.25,0],\n",
    "            cameraUpVector=[0,1,0])\n",
    "\n",
    "projectionMatrix = pybullet.computeProjectionMatrixFOV(\n",
    "            fov=45.0,\n",
    "            aspect=1.0,\n",
    "            nearVal=0.1,\n",
    "            farVal=3.1)\n",
    "\n",
    "width, height, rgbImg, depthImg, segImg = pybullet.getCameraImage(width = 224, height = 224, viewMatrix=viewMatrix, projectionMatrix = projectionMatrix)\n",
    "\n",
    "\n",
    "print(pybullet.getBasePositionAndOrientation(turtle1))\n",
    "print(pybullet.getBasePositionAndOrientation(turtle2))\n",
    "print(pybullet.getBasePositionAndOrientation(turtle3))\n",
    "print(pybullet.getBasePositionAndOrientation(turtle4))\n",
    "print(pybullet.getBasePositionAndOrientation(turtle5))\n",
    "\n",
    "pybullet.setRealTimeSimulation(1)"
   ]
  },
  {
   "cell_type": "code",
   "execution_count": 31,
   "id": "074f0e18",
   "metadata": {},
   "outputs": [
    {
     "ename": "error",
     "evalue": "Not connected to physics server.",
     "output_type": "error",
     "traceback": [
      "\u001b[1;31m---------------------------------------------------------------------------\u001b[0m",
      "\u001b[1;31merror\u001b[0m                                     Traceback (most recent call last)",
      "\u001b[1;32m~\\AppData\\Local\\Temp/ipykernel_9356/3263076452.py\u001b[0m in \u001b[0;36m<module>\u001b[1;34m\u001b[0m\n\u001b[1;32m----> 1\u001b[1;33m \u001b[0mpybullet\u001b[0m\u001b[1;33m.\u001b[0m\u001b[0mdisconnect\u001b[0m\u001b[1;33m(\u001b[0m\u001b[1;33m)\u001b[0m\u001b[1;33m\u001b[0m\u001b[1;33m\u001b[0m\u001b[0m\n\u001b[0m",
      "\u001b[1;31merror\u001b[0m: Not connected to physics server."
     ]
    }
   ],
   "source": [
    "pybullet.disconnect()"
   ]
  }
 ],
 "metadata": {
  "kernelspec": {
   "display_name": "Python 3 (ipykernel)",
   "language": "python",
   "name": "python3"
  },
  "language_info": {
   "codemirror_mode": {
    "name": "ipython",
    "version": 3
   },
   "file_extension": ".py",
   "mimetype": "text/x-python",
   "name": "python",
   "nbconvert_exporter": "python",
   "pygments_lexer": "ipython3",
   "version": "3.7.3"
  }
 },
 "nbformat": 4,
 "nbformat_minor": 5
}
